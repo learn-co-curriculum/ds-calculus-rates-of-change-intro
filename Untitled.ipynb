{
 "cells": [
  {
   "cell_type": "markdown",
   "metadata": {},
   "source": [
    "# Derivatives, Calculus and Rate of Change\n",
    "\n",
    "The central concepts in calculus are derivatives and integrals. A derivative is simply a rate of change. Taking an integral is the inverse of taking a derivative. Graphically, the integral is the area under the curve. One of the easiest examples to further understand this concept is looking at distance, velocity and acceleration.\n",
    "\n",
    "<img src=\"dva.gif\">"
   ]
  },
  {
   "cell_type": "markdown",
   "metadata": {},
   "source": [
    "If we were to take the derivative of the distance graph, we would get the velocity graph shown below it. Similarly, if we take the derivative of the velocity graph, we will get the acceleration graph."
   ]
  },
  {
   "cell_type": "code",
   "execution_count": null,
   "metadata": {},
   "outputs": [],
   "source": []
  }
 ],
 "metadata": {
  "kernelspec": {
   "display_name": "Python 3",
   "language": "python",
   "name": "python3"
  },
  "language_info": {
   "codemirror_mode": {
    "name": "ipython",
    "version": 3
   },
   "file_extension": ".py",
   "mimetype": "text/x-python",
   "name": "python",
   "nbconvert_exporter": "python",
   "pygments_lexer": "ipython3",
   "version": "3.6.5"
  }
 },
 "nbformat": 4,
 "nbformat_minor": 2
}
